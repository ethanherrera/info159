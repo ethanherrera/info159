{
  "nbformat": 4,
  "nbformat_minor": 0,
  "metadata": {
    "colab": {
      "provenance": [],
      "include_colab_link": true
    },
    "kernelspec": {
      "name": "python3",
      "display_name": "Python 3"
    },
    "language_info": {
      "name": "python"
    }
  },
  "cells": [
    {
      "cell_type": "markdown",
      "metadata": {
        "id": "view-in-github",
        "colab_type": "text"
      },
      "source": [
        "<a href=\"https://colab.research.google.com/github/ethanherrera/info159/blob/main/HW6.ipynb\" target=\"_parent\"><img src=\"https://colab.research.google.com/assets/colab-badge.svg\" alt=\"Open In Colab\"/></a>"
      ]
    },
    {
      "cell_type": "markdown",
      "source": [
        "# INFO 159/259\n",
        "#<center> Homework 6: Unsupervised Methods </center>\n",
        "\n",
        "<center> Due: May 01 , 2025 @ 11:59pm </center>"
      ],
      "metadata": {
        "id": "wxKqYaSFaPUT"
      }
    },
    {
      "cell_type": "markdown",
      "source": [
        "\n",
        "In class, we have covered several unsuperivsed methods for working with data. In this final homework, we want you to tell us something interesting about a dataset with any of the unsuperivised methods we covered during class.\n",
        "\n",
        "## Dataset\n",
        "You can pick any of the datasets below for your analysis:\n",
        "\n",
        " <a name=\"cell-id\"></a>\n",
        "    [CMU Book Summary Dataset](https://www.cs.cmu.edu/~dbamman/booksummaries.html)\n",
        "        Metadata: Title, author, publication date, genre\n",
        "\n",
        " <a name=\"cell-id\"></a>\n",
        "    [CMU Movie Summary Dataset](http://www.cs.cmu.edu/~ark/personas/)\n",
        "        Metadata: Movie box office revenue, genre, release date, runtime, and language\n",
        "\n",
        " <a name=\"cell-id\"></a>\n",
        "    [Large Movie Review Dataset](https://ai.stanford.edu/~amaas/data/sentiment/)\n",
        "        Metadata: positive/negative sentiment\n",
        "\n",
        " <a name=\"cell-id\"></a>\n",
        "    [Congressional Speech Data](https://www.cs.cornell.edu/home/llee/data/convote.html)\n",
        "        Metadata: political party\n",
        "\n",
        " <a name=\"cell-id\"></a>\n",
        "    [100K ArXiv abstracts](https://drive.google.com/file/d/1ThK1D9AstYI6s2Z7m9SmvLqLZPneMp12/view?usp=sharing)\n",
        "        Metadata: ArXiv subject (e.g., math, physics, cs)\n"
      ],
      "metadata": {
        "id": "AxVQUzuR8x4x"
      }
    },
    {
      "cell_type": "markdown",
      "source": [
        "## Deliverable 1: Tell us about the dataset you picked.\n",
        "In the text box below, tell us which dataset you selected and why. Tell us about the meta data of your selected dataset."
      ],
      "metadata": {
        "id": "MVCnn9jO-DUw"
      }
    },
    {
      "cell_type": "markdown",
      "source": [
        "(your response goes here)"
      ],
      "metadata": {
        "id": "cEEH4Nys-QwJ"
      }
    },
    {
      "cell_type": "markdown",
      "source": [
        "# Deliverable 2: Tell us about the methods you chose\n",
        "\n",
        "\n",
        "For this assignment, you will use two methods from class to explore your data and tell us something interesting about it.\n",
        "\n",
        "a.) You must use one of the following methods:\n",
        "\n",
        "* Topic modeling\n",
        "* Hierarchical clustering\n",
        "* K-means clustering\n",
        "\n",
        "b.) In addition, you should use one more method from the following options:\n",
        "\n",
        "* PMI\n",
        "* dependency parsing\n",
        "* NER\n",
        "* WSD (using WordNet)\n",
        "* Relation extration\n",
        "* Classification (e.g. logistic regression, BERT)\n",
        "* Word embeddings (word2vec, contextual embeddings)\n",
        "\n",
        "You are free to use any external resources and libraries for this assignment; the goal is to put use your comprehensive knowledge of NLP to use.\n",
        "\n",
        "As starting points, you can use spacy for parsing/NER,  gensim for topic modeling, sklearn for clustering (KMeans, TF-IDF). You can implement methods for which you cannot find libraries.\n",
        "\n",
        "In the text box below, tell us about:\n",
        "* which unsupervised methods you chose and why you chose that method for this particular dataset.\n",
        "* what pre-processing steps you had to perform to run the method on your data.\n",
        "* how you choose to represent your documents if using clustering methods\n"
      ],
      "metadata": {
        "id": "GcbuU9rA-STc"
      }
    },
    {
      "cell_type": "markdown",
      "source": [],
      "metadata": {
        "id": "Rw56ONNh_G01"
      }
    },
    {
      "cell_type": "markdown",
      "source": [
        "# Deliverable 3: Code for analysis\n",
        "In the code block below, add your code for analsyis. You can organize your code in way that fits best for your analysis."
      ],
      "metadata": {
        "id": "S-lXCVTH-4L3"
      }
    },
    {
      "cell_type": "code",
      "source": [],
      "metadata": {
        "id": "EBVFrawN_FH6"
      },
      "execution_count": null,
      "outputs": []
    },
    {
      "cell_type": "markdown",
      "source": [
        "## Deliverable 4: Results and Analysis\n",
        "Here, use code or text blocks below to reflect on insteresting results form your analysis. You can use graphs or figures from your code above. Additionaly, add your interpretation of the results. What did you find interesting from what you obsereved?"
      ],
      "metadata": {
        "id": "R2Va2Y6n_FwU"
      }
    },
    {
      "cell_type": "code",
      "source": [],
      "metadata": {
        "id": "1eq_JDVR_N4G"
      },
      "execution_count": null,
      "outputs": []
    },
    {
      "cell_type": "markdown",
      "source": [],
      "metadata": {
        "id": "4k7DUlId_j_h"
      }
    }
  ]
}